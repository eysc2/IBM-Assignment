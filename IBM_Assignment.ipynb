{
 "cells": [
  {
   "cell_type": "markdown",
   "id": "4d229084-c2a5-4b22-957f-553559112b04",
   "metadata": {},
   "source": [
    "# My Jupyter Notebook on IBM Watson Studio"
   ]
  },
  {
   "cell_type": "markdown",
   "id": "56ad7864-bb60-43a6-a002-2a23f623de56",
   "metadata": {},
   "source": [
    "**Cheng Yi Sin Eva**\n",
    "<br>Financial Analyst"
   ]
  },
  {
   "cell_type": "markdown",
   "id": "1019037a-7715-4023-bb7d-0bf1bcadfef7",
   "metadata": {},
   "source": [
    "*I am interested in data science because I need to analyze data for insights into market trends*"
   ]
  },
  {
   "cell_type": "markdown",
   "id": "86efa07c-b651-47e6-bbd9-fe607489e459",
   "metadata": {},
   "source": [
    "***The following code test the Gauss formula\"***"
   ]
  },
  {
   "cell_type": "code",
   "execution_count": 5,
   "id": "17e82400-588e-4c18-a9dd-069f5fb2c36b",
   "metadata": {},
   "outputs": [
    {
     "data": {
      "text/plain": [
       "True"
      ]
     },
     "execution_count": 5,
     "metadata": {},
     "output_type": "execute_result"
    }
   ],
   "source": [
    "def gauss(n):\n",
    "    return (n*(n+1))/2\n",
    "\n",
    "gauss(100) == sum(range(101))"
   ]
  },
  {
   "cell_type": "markdown",
   "id": "f4253b41-c1aa-42ae-9ac9-90ab85c801d5",
   "metadata": {},
   "source": [
    "***\n",
    "\n",
    "* Hope everyone has enjoyed the course\n",
    "\n",
    "1.  Hope to apply this in real life one day\n",
    "\n",
    "***"
   ]
  },
  {
   "cell_type": "code",
   "execution_count": null,
   "id": "91dcab1c-0379-4586-a6bc-14ba5dd091d2",
   "metadata": {},
   "outputs": [],
   "source": []
  }
 ],
 "metadata": {
  "kernelspec": {
   "display_name": "Python",
   "language": "python",
   "name": "conda-env-python-py"
  },
  "language_info": {
   "codemirror_mode": {
    "name": "ipython",
    "version": 3
   },
   "file_extension": ".py",
   "mimetype": "text/x-python",
   "name": "python",
   "nbconvert_exporter": "python",
   "pygments_lexer": "ipython3",
   "version": "3.7.12"
  }
 },
 "nbformat": 4,
 "nbformat_minor": 5
}
